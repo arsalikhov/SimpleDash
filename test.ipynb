{
 "cells": [
  {
   "cell_type": "code",
   "execution_count": 42,
   "metadata": {},
   "outputs": [
    {
     "name": "stderr",
     "output_type": "stream",
     "text": [
      "<ipython-input-42-5a042890b522>:8: FutureWarning: Indexing with multiple keys (implicitly converted to a tuple of keys) will be deprecated, use a list instead.\n",
      "  df = df.groupby(['key'], axis = 0, sort=False, as_index= False)['time', 'posture'].nth([0, -1]).reset_index()\n"
     ]
    }
   ],
   "source": [
    "import pandas as pd\n",
    "import numpy as np\n",
    "from numpy.core.numeric import NaN\n",
    "\n",
    "df = pd.DataFrame(pd.read_csv(\"001_chest_AX6_6014664.csv\"))\n",
    "\n",
    "df['key'] = (df['posture'] != df['posture'].shift(1)).astype(int).cumsum()\n",
    "df = df.groupby(['key'], axis = 0, sort=False, as_index= False)['time', 'posture'].nth([0, -1]).reset_index()\n",
    "\n",
    "df = pd.DataFrame({'sleep_start':df['time'].iloc[::].values, 'sleep_end':df['time'].iloc[::].values, 'posture':df['posture'].iloc[::].values})\n",
    "\n",
    "df['matches?'] = df['posture'].shift(1)==df['posture']\n",
    "df['matches2.0?'] = df['matches?'].shift(-1)==df['matches?']\n",
    "\n",
    "\n",
    "\n",
    "df.loc[(df['matches2.0?'] == True), \"matches2.0?\"] = 2\n",
    "df.loc[(df['matches2.0?'] == False), \"matches2.0?\"] = 1\n",
    "df_new = pd.DataFrame([df.loc[idx] for idx in df.index for _ in range(df.loc[idx]['matches2.0?'])]).reset_index(drop=True)\n",
    "\n",
    "df_new[\"bout_start\"] = df_new[\"sleep_start\"].iloc[::2]\n",
    "df_new[\"bout_end\"] = df_new[\"sleep_end\"].iloc[1::2]\n",
    "df_new = df_new.drop(columns = [\"sleep_start\", \"sleep_end\", \"matches?\", \"matches2.0?\"])\n",
    "\n",
    "df_new['bout_end'] = df_new['bout_end'].shift(-1)\n",
    "df_new = df_new.dropna().reset_index(drop = True)\n",
    "df_new = df_new.reindex(columns=[\"bout_start\", \"bout_end\", \"posture\"])\n",
    "df_new\n",
    "\n",
    "\n",
    "df_new.loc[(df_new['posture'] == 0), 'posture'] = \"Prone\"\n",
    "df_new.loc[(df_new['posture'] == 1), 'posture'] = \"Supine\"\n",
    "df_new.loc[(df_new['posture'] == 2), 'posture'] = \"Laying on Side\"\n",
    "df_new.loc[(df_new['posture'] == 3), 'posture'] = \"Sitting\"\n",
    "df_new.loc[(df_new['posture'] == 4), 'posture'] = \"Sitting/Standing\"\n",
    "df_new.loc[(df_new['posture'] == 5), 'posture'] = \"Dynamic\"\n",
    "\n",
    "df_new.to_csv(\"test.csv\", index=False)"
   ]
  },
  {
   "cell_type": "code",
   "execution_count": null,
   "metadata": {},
   "outputs": [],
   "source": []
  },
  {
   "cell_type": "code",
   "execution_count": null,
   "metadata": {},
   "outputs": [],
   "source": []
  }
 ],
 "metadata": {
  "interpreter": {
   "hash": "aee8b7b246df8f9039afb4144a1f6fd8d2ca17a180786b69acc140d282b71a49"
  },
  "kernelspec": {
   "display_name": "Python 3.9.5 64-bit",
   "name": "python3"
  },
  "language_info": {
   "codemirror_mode": {
    "name": "ipython",
    "version": 3
   },
   "file_extension": ".py",
   "mimetype": "text/x-python",
   "name": "python",
   "nbconvert_exporter": "python",
   "pygments_lexer": "ipython3",
   "version": "3.9.5"
  },
  "orig_nbformat": 4
 },
 "nbformat": 4,
 "nbformat_minor": 2
}